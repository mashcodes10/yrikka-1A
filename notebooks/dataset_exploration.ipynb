{
  "cells": [
    {
      "cell_type": "markdown",
      "metadata": {},
      "source": [
        "# BTT Dataset Exploration\n",
        "\n",
        "This notebook provides initial exploration of the YRIKKA Challenge BTT (Beyond the Thing) datasets.\n",
        "\n",
        "The datasets contain images with rich contextual annotations including:\n",
        "- Object labels\n",
        "- Scene descriptions\n",
        "- Lighting conditions\n",
        "- Blur effects\n",
        "- Occlusion information\n"
      ]
    }
  ],
  "metadata": {
    "language_info": {
      "name": "python"
    }
  },
  "nbformat": 4,
  "nbformat_minor": 2
}
